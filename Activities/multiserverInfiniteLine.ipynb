{
 "cells": [
  {
   "cell_type": "markdown",
   "metadata": {},
   "source": [
    "Esto te ayuda a calcular todas las variables de una linea de multi servidores y lineas infinitas"
   ]
  },
  {
   "cell_type": "code",
   "execution_count": 19,
   "metadata": {},
   "outputs": [],
   "source": [
    "#Propiedades del problema\n",
    "lanbda = 8\n",
    "mu= 5\n",
    "s = 2"
   ]
  },
  {
   "cell_type": "code",
   "execution_count": 20,
   "metadata": {},
   "outputs": [],
   "source": [
    "from decimal import *"
   ]
  },
  {
   "cell_type": "code",
   "execution_count": 21,
   "metadata": {},
   "outputs": [],
   "source": [
    "#cast as decimal\n",
    "lanbda = Decimal(lanbda)\n",
    "mu = Decimal(mu)\n",
    "s = Decimal(s)\n",
    "rho = lanbda/(s*mu)"
   ]
  },
  {
   "cell_type": "code",
   "execution_count": 22,
   "metadata": {},
   "outputs": [],
   "source": [
    "#Calcular probabilidades\n",
    "from math import factorial\n",
    "\n",
    "\n",
    "def probs(numprob = None):\n",
    "    p0 = 1/(1+(lanbda/mu) * (1/(1-rho)))\n",
    "    if not numprob:\n",
    "        return p0\n",
    "    else:\n",
    "        if numprob < s:\n",
    "            return p0 * (lanbda/mu)**numprob / factorial(numprob)\n",
    "        else: \n",
    "            return p0 * (lanbda/mu)**numprob / (factorial(int(s)) * s**(numprob-s))"
   ]
  },
  {
   "cell_type": "code",
   "execution_count": 23,
   "metadata": {},
   "outputs": [],
   "source": [
    "p0 = probs()"
   ]
  },
  {
   "cell_type": "code",
   "execution_count": 24,
   "metadata": {},
   "outputs": [],
   "source": [
    "#Calculate medidas\n",
    "def calculate_medidas():\n",
    "    Lq = Decimal(1)/Decimal(factorial(int(s))) * (lanbda/mu)**s * p0 * (rho / ((Decimal(1)-rho)**2))\n",
    "    Wq = Lq/lanbda\n",
    "    W = Wq + Decimal(1)/mu\n",
    "    L = Lq + lanbda/mu\n",
    "    return Lq, Wq, W, L\n"
   ]
  },
  {
   "cell_type": "code",
   "execution_count": 25,
   "metadata": {},
   "outputs": [],
   "source": [
    "Lq, Wq, W, L = calculate_medidas()"
   ]
  },
  {
   "cell_type": "code",
   "execution_count": 26,
   "metadata": {},
   "outputs": [
    {
     "name": "stdout",
     "output_type": "stream",
     "text": [
      "Probabilidad de que no haya clientes en el sistema: 0.1111111111111111111111111111\n",
      "Probabilidad de que haya n clientes en el sistema: 0.1422222222222222222222222222\n",
      "Numero medio de clientes en el sistema: 4.444444444444444444444444444\n",
      "Numero medio de clientes en la cola: 2.844444444444444444444444444\n",
      "Tiempo medio de espera en el sistema: 0.5555555555555555555555555555\n",
      "Tiempo medio de espera en la cola: 0.3555555555555555555555555555\n",
      "Utilización del sistema: 0.8\n"
     ]
    }
   ],
   "source": [
    "print(f\"Probabilidad de que no haya clientes en el sistema: {p0}\")\n",
    "print(f\"Probabilidad de que haya n clientes en el sistema: {probs(2)}\")\n",
    "print(f\"Numero medio de clientes en el sistema: {L}\")\n",
    "print(f\"Numero medio de clientes en la cola: {Lq}\")\n",
    "print(f\"Tiempo medio de espera en el sistema: {W}\")\n",
    "print(f\"Tiempo medio de espera en la cola: {Wq}\")\n",
    "print(f\"Utilización del sistema: {rho}\")\n"
   ]
  },
  {
   "cell_type": "code",
   "execution_count": 27,
   "metadata": {},
   "outputs": [],
   "source": [
    "lanbda = 16\n",
    "mu= 5\n",
    "s = 4"
   ]
  },
  {
   "cell_type": "code",
   "execution_count": 28,
   "metadata": {},
   "outputs": [],
   "source": [
    "#cast as decimal\n",
    "lanbda = Decimal(lanbda)\n",
    "mu = Decimal(mu)\n",
    "s = Decimal(s)\n",
    "rho = lanbda/(s*mu)"
   ]
  },
  {
   "cell_type": "code",
   "execution_count": 29,
   "metadata": {},
   "outputs": [],
   "source": [
    "p0= probs()"
   ]
  },
  {
   "cell_type": "code",
   "execution_count": 30,
   "metadata": {},
   "outputs": [],
   "source": [
    "Lq, Wq, W, L = calculate_medidas()"
   ]
  },
  {
   "cell_type": "code",
   "execution_count": 31,
   "metadata": {},
   "outputs": [
    {
     "name": "stdout",
     "output_type": "stream",
     "text": [
      "Probabilidad de que no haya clientes en el sistema: 0.05882352941176470588235294118\n",
      "Probabilidad de que haya n clientes en el sistema: 0.3011764705882352941176470588\n",
      "Numero medio de clientes en el sistema: 8.340078431372549019607843138\n",
      "Numero medio de clientes en la cola: 5.140078431372549019607843138\n",
      "Tiempo medio de espera en el sistema: 0.5212549019607843137254901961\n",
      "Tiempo medio de espera en la cola: 0.3212549019607843137254901961\n",
      "Utilización del sistema: 0.8\n"
     ]
    }
   ],
   "source": [
    "print(f\"Probabilidad de que no haya clientes en el sistema: {p0}\")\n",
    "print(f\"Probabilidad de que haya n clientes en el sistema: {probs(2)}\")\n",
    "print(f\"Numero medio de clientes en el sistema: {L}\")\n",
    "print(f\"Numero medio de clientes en la cola: {Lq}\")\n",
    "print(f\"Tiempo medio de espera en el sistema: {W}\")\n",
    "print(f\"Tiempo medio de espera en la cola: {Wq}\")\n",
    "print(f\"Utilización del sistema: {rho}\")\n"
   ]
  },
  {
   "cell_type": "code",
   "execution_count": 32,
   "metadata": {},
   "outputs": [],
   "source": [
    "# Hospital general\n",
    "lanbda = 2\n",
    "mu = 3\n",
    "s = 2"
   ]
  },
  {
   "cell_type": "code",
   "execution_count": 33,
   "metadata": {},
   "outputs": [],
   "source": [
    "lanbda = Decimal(lanbda)\n",
    "mu = Decimal(mu)\n",
    "s = Decimal(s)\n",
    "rho = lanbda/(s*mu)"
   ]
  },
  {
   "cell_type": "code",
   "execution_count": 34,
   "metadata": {},
   "outputs": [],
   "source": [
    "p0 = probs()"
   ]
  },
  {
   "cell_type": "code",
   "execution_count": 35,
   "metadata": {},
   "outputs": [],
   "source": [
    "Lq, Wq, W, L = calculate_medidas()\n"
   ]
  },
  {
   "cell_type": "code",
   "execution_count": 36,
   "metadata": {},
   "outputs": [
    {
     "name": "stdout",
     "output_type": "stream",
     "text": [
      "Probabilidad de que no haya clientes en el sistema: 0.5\n",
      "Probabilidad de que haya n clientes en el sistema: 0.1111111111111111111111111111\n",
      "Numero medio de clientes en el sistema: 0.7500000000000000000000000000\n",
      "Numero medio de clientes en la cola: 0.08333333333333333333333333330\n",
      "Tiempo medio de espera en el sistema: 0.3750000000000000000000000000\n",
      "Tiempo medio de espera en la cola: 0.04166666666666666666666666665\n",
      "Utilización del sistema: 0.3333333333333333333333333333\n"
     ]
    }
   ],
   "source": [
    "print(f\"Probabilidad de que no haya clientes en el sistema: {p0}\")\n",
    "print(f\"Probabilidad de que haya n clientes en el sistema: {probs(2)}\")\n",
    "print(f\"Numero medio de clientes en el sistema: {L}\")\n",
    "print(f\"Numero medio de clientes en la cola: {Lq}\")\n",
    "print(f\"Tiempo medio de espera en el sistema: {W}\")\n",
    "print(f\"Tiempo medio de espera en la cola: {Wq}\")\n",
    "print(f\"Utilización del sistema: {rho}\")\n"
   ]
  }
 ],
 "metadata": {
  "kernelspec": {
   "display_name": "personal",
   "language": "python",
   "name": "python3"
  },
  "language_info": {
   "codemirror_mode": {
    "name": "ipython",
    "version": 3
   },
   "file_extension": ".py",
   "mimetype": "text/x-python",
   "name": "python",
   "nbconvert_exporter": "python",
   "pygments_lexer": "ipython3",
   "version": "3.11.9"
  }
 },
 "nbformat": 4,
 "nbformat_minor": 2
}
